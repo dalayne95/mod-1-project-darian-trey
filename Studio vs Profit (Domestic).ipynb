{
 "cells": [
  {
   "cell_type": "markdown",
   "metadata": {},
   "source": [
    "# Top 10 Studio Competitors"
   ]
  },
  {
   "cell_type": "code",
   "execution_count": 1,
   "metadata": {
    "scrolled": true
   },
   "outputs": [],
   "source": [
    "import pandas as pd\n",
    "import numpy as np\n",
    "import seaborn as sns\n",
    "import matplotlib.pyplot as plt\n",
    "%matplotlib inline\n",
    "\n",
    "df = pd.read_csv('Data/bom.movie_gross.csv.gz')"
   ]
  },
  {
   "cell_type": "markdown",
   "metadata": {},
   "source": [
    "## Cleaning Process "
   ]
  },
  {
   "cell_type": "markdown",
   "metadata": {},
   "source": [
    "We want to see a summary of the NaNs in each column. I see that foreign_gross has an obscene number of NaNs so I'm just going to remove it (rip) making sure I set inplace=True so that the change sticks."
   ]
  },
  {
   "cell_type": "code",
   "execution_count": 2,
   "metadata": {
    "scrolled": true
   },
   "outputs": [],
   "source": [
    "df.isna().sum()\n",
    "df.dropna(inplace=True)\n",
    "df.drop(['foreign_gross'], axis=1, inplace=True)"
   ]
  },
  {
   "cell_type": "markdown",
   "metadata": {},
   "source": [
    "My next step is to conver the year to a datetime object. We have chosen to limit the dataset to 5 years (2013 - 2018) so after we convert year to a datetime object we can filter for all years greater than or equal to 2013."
   ]
  },
  {
   "cell_type": "code",
   "execution_count": 3,
   "metadata": {
    "scrolled": false
   },
   "outputs": [],
   "source": [
    "# we need to convert the year column to a string so we can then convert it to a datetime object\n",
    "df.year = df.year.astype('str')\n",
    "\n",
    "# convert to datetime \n",
    "df['year'] =  pd.to_datetime(df['year'], infer_datetime_format=True)\n",
    "\n",
    "# filter out values with values before 01-01-13 and after 12-31-18\n",
    "df = df[(df['year'].dt.year >= 2013)]"
   ]
  },
  {
   "cell_type": "code",
   "execution_count": 4,
   "metadata": {},
   "outputs": [],
   "source": [
    "# groupby studio\n",
    "df = df.groupby('studio').sum().reset_index()\n",
    "# sort values largest to smallest\n",
    "df = df.sort_values('domestic_gross', ascending=False)\n",
    "# reset the index bc it got messed up\n",
    "df = df.reset_index()\n",
    "# limit to 10 largest values \n",
    "df = df[0:10]\n",
    "\n",
    "# top 10 = Buena Vista; Universal;; Fox; Warner Brothers; Sony; Paramount; Warner Brothers Netherlands; LF/S?????; Lions Gate Film; The Weinstein Company"
   ]
  },
  {
   "cell_type": "markdown",
   "metadata": {},
   "source": [
    "## Plotting"
   ]
  },
  {
   "cell_type": "code",
   "execution_count": 5,
   "metadata": {
    "scrolled": false
   },
   "outputs": [
    {
     "data": {
      "text/plain": [
       "Text(0.5, 1.0, 'Top 10 Studio Competitors')"
      ]
     },
     "execution_count": 5,
     "metadata": {},
     "output_type": "execute_result"
    },
    {
     "data": {
      "image/png": "[encoded data removed]",
      "text/plain": [
       "<Figure size 1152x432 with 1 Axes>"
      ]
     },
     "metadata": {
      "needs_background": "light"
     },
     "output_type": "display_data"
    }
   ],
   "source": [
    "plt.figure(figsize=(16, 6))\n",
    "ax = sns.barplot(x=\"studio\", y=\"domestic_gross\", data=df, color=\"b\")\n",
    "plt.xlabel('Studio')\n",
    "plt.ylabel('Gross Domestic Revenue ($)') # highest value is $14,000,000,000\n",
    "plt.title('Top 10 Studio Competitors')\n",
    "#sns.color_palette(palette=\"BuGn_r\", n_colors=None, desat=None)\n",
    "#sns.palplot(sns.color_palette())\n",
    "\n",
    "#ax.set_xticks"
   ]
  },
  {
   "cell_type": "markdown",
   "metadata": {},
   "source": [
    "## To Do:\n",
    " - set color palette for graph\n",
    " - change x labels\n",
    " - think abut units for revenue??"
   ]
  },
  {
   "cell_type": "markdown",
   "metadata": {},
   "source": [
    "Reccomendation: model your studio practices after one of the top 5 movie studios; alternatively comission a longer study that investigstes *why* these studios are successfull (director, budget, etc)"
   ]
  },
  {
   "cell_type": "code",
   "execution_count": null,
   "metadata": {},
   "outputs": [],
   "source": []
  }
 ],
 "metadata": {
  "kernelspec": {
   "display_name": "Python 3",
   "language": "python",
   "name": "python3"
  },
  "language_info": {
   "codemirror_mode": {
    "name": "ipython",
    "version": 3
   },
   "file_extension": ".py",
   "mimetype": "text/x-python",
   "name": "python",
   "nbconvert_exporter": "python",
   "pygments_lexer": "ipython3",
   "version": "3.7.5"
  }
 },
 "nbformat": 4,
 "nbformat_minor": 2
}
